{
 "cells": [
  {
   "cell_type": "markdown",
   "metadata": {},
   "source": [
    "# Table Downloader\n",
    "__authors__: ufukbombar@gmail.com\n",
    "\n",
    "__date__: 2024-11-18\n",
    "\n",
    "__goal__: This notebook downloads the latest table names to the data folder."
   ]
  },
  {
   "cell_type": "code",
   "execution_count": 13,
   "metadata": {},
   "outputs": [
    {
     "name": "stdout",
     "output_type": "stream",
     "text": [
      "Requirement already satisfied: pandas in /home/ubombar/Projects/Doctoral/iris-data-analysis/.venv/lib/python3.11/site-packages (2.2.3)\n",
      "Requirement already satisfied: requests in /home/ubombar/Projects/Doctoral/iris-data-analysis/.venv/lib/python3.11/site-packages (2.32.3)\n",
      "Requirement already satisfied: python-dotenv in /home/ubombar/Projects/Doctoral/iris-data-analysis/.venv/lib/python3.11/site-packages (1.0.1)\n",
      "Requirement already satisfied: httpx in /home/ubombar/Projects/Doctoral/iris-data-analysis/.venv/lib/python3.11/site-packages (0.27.2)\n",
      "Requirement already satisfied: aiofiles in /home/ubombar/Projects/Doctoral/iris-data-analysis/.venv/lib/python3.11/site-packages (24.1.0)\n",
      "Requirement already satisfied: dataclasses in /home/ubombar/Projects/Doctoral/iris-data-analysis/.venv/lib/python3.11/site-packages (0.6)\n",
      "Requirement already satisfied: tqdm in /home/ubombar/Projects/Doctoral/iris-data-analysis/.venv/lib/python3.11/site-packages (4.67.0)\n",
      "Requirement already satisfied: pyarrow in /home/ubombar/Projects/Doctoral/iris-data-analysis/.venv/lib/python3.11/site-packages (18.0.0)\n",
      "Requirement already satisfied: numpy>=1.23.2 in /home/ubombar/Projects/Doctoral/iris-data-analysis/.venv/lib/python3.11/site-packages (from pandas) (2.1.3)\n",
      "Requirement already satisfied: python-dateutil>=2.8.2 in /home/ubombar/Projects/Doctoral/iris-data-analysis/.venv/lib/python3.11/site-packages (from pandas) (2.9.0.post0)\n",
      "Requirement already satisfied: pytz>=2020.1 in /home/ubombar/Projects/Doctoral/iris-data-analysis/.venv/lib/python3.11/site-packages (from pandas) (2024.2)\n",
      "Requirement already satisfied: tzdata>=2022.7 in /home/ubombar/Projects/Doctoral/iris-data-analysis/.venv/lib/python3.11/site-packages (from pandas) (2024.2)\n",
      "Requirement already satisfied: charset-normalizer<4,>=2 in /home/ubombar/Projects/Doctoral/iris-data-analysis/.venv/lib/python3.11/site-packages (from requests) (3.4.0)\n",
      "Requirement already satisfied: idna<4,>=2.5 in /home/ubombar/Projects/Doctoral/iris-data-analysis/.venv/lib/python3.11/site-packages (from requests) (3.10)\n",
      "Requirement already satisfied: urllib3<3,>=1.21.1 in /home/ubombar/Projects/Doctoral/iris-data-analysis/.venv/lib/python3.11/site-packages (from requests) (2.2.3)\n",
      "Requirement already satisfied: certifi>=2017.4.17 in /home/ubombar/Projects/Doctoral/iris-data-analysis/.venv/lib/python3.11/site-packages (from requests) (2024.8.30)\n",
      "Requirement already satisfied: anyio in /home/ubombar/Projects/Doctoral/iris-data-analysis/.venv/lib/python3.11/site-packages (from httpx) (4.6.2.post1)\n",
      "Requirement already satisfied: httpcore==1.* in /home/ubombar/Projects/Doctoral/iris-data-analysis/.venv/lib/python3.11/site-packages (from httpx) (1.0.7)\n",
      "Requirement already satisfied: sniffio in /home/ubombar/Projects/Doctoral/iris-data-analysis/.venv/lib/python3.11/site-packages (from httpx) (1.3.1)\n",
      "Requirement already satisfied: h11<0.15,>=0.13 in /home/ubombar/Projects/Doctoral/iris-data-analysis/.venv/lib/python3.11/site-packages (from httpcore==1.*->httpx) (0.14.0)\n",
      "Requirement already satisfied: six>=1.5 in /home/ubombar/Projects/Doctoral/iris-data-analysis/.venv/lib/python3.11/site-packages (from python-dateutil>=2.8.2->pandas) (1.16.0)\n",
      "Note: you may need to restart the kernel to use updated packages.\n"
     ]
    }
   ],
   "source": [
    "# Required packages\n",
    "%pip install pandas requests python-dotenv httpx aiofiles dataclasses tqdm pyarrow\n",
    "\n",
    "# External imports\n",
    "import pandas as pd \n",
    "from dataclasses import dataclass\n",
    "import json\n",
    "from datetime import datetime\n",
    "from tqdm.asyncio import tqdm\n",
    "import os\n",
    "\n",
    "# Internal imports\n",
    "from config import config\n",
    "import common\n",
    "import file as ff"
   ]
  },
  {
   "cell_type": "code",
   "execution_count": 14,
   "metadata": {},
   "outputs": [
    {
     "name": "stderr",
     "output_type": "stream",
     "text": [
      "9it [00:01,  5.29it/s]lt: 8MB [00:01,  6.07MB/s]\n",
      "Running the query result: 8MB [00:01,  4.69MB/s]\n"
     ]
    },
    {
     "data": {
      "text/html": [
       "<div>\n",
       "<style scoped>\n",
       "    .dataframe tbody tr th:only-of-type {\n",
       "        vertical-align: middle;\n",
       "    }\n",
       "\n",
       "    .dataframe tbody tr th {\n",
       "        vertical-align: top;\n",
       "    }\n",
       "\n",
       "    .dataframe thead th {\n",
       "        text-align: right;\n",
       "    }\n",
       "</style>\n",
       "<table border=\"1\" class=\"dataframe\">\n",
       "  <thead>\n",
       "    <tr style=\"text-align: right;\">\n",
       "      <th></th>\n",
       "      <th>table_name</th>\n",
       "      <th>creation_date</th>\n",
       "    </tr>\n",
       "  </thead>\n",
       "  <tbody>\n",
       "    <tr>\n",
       "      <th>0</th>\n",
       "      <td>cleaned_links__007046a9_518e_46cb_8e70_e598b8b...</td>\n",
       "      <td>2024-11-18 20:10:38.865040</td>\n",
       "    </tr>\n",
       "    <tr>\n",
       "      <th>1</th>\n",
       "      <td>cleaned_links__007046a9_518e_46cb_8e70_e598b8b...</td>\n",
       "      <td>2024-11-18 20:10:38.865040</td>\n",
       "    </tr>\n",
       "    <tr>\n",
       "      <th>2</th>\n",
       "      <td>cleaned_links__007046a9_518e_46cb_8e70_e598b8b...</td>\n",
       "      <td>2024-11-18 20:10:38.865040</td>\n",
       "    </tr>\n",
       "    <tr>\n",
       "      <th>3</th>\n",
       "      <td>cleaned_links__007046a9_518e_46cb_8e70_e598b8b...</td>\n",
       "      <td>2024-11-18 20:10:38.865040</td>\n",
       "    </tr>\n",
       "    <tr>\n",
       "      <th>4</th>\n",
       "      <td>cleaned_links__007046a9_518e_46cb_8e70_e598b8b...</td>\n",
       "      <td>2024-11-18 20:10:38.865040</td>\n",
       "    </tr>\n",
       "    <tr>\n",
       "      <th>...</th>\n",
       "      <td>...</td>\n",
       "      <td>...</td>\n",
       "    </tr>\n",
       "    <tr>\n",
       "      <th>100550</th>\n",
       "      <td>results__ffd2d86c_05c1_4607_a5b1_4ab04b77ee41_...</td>\n",
       "      <td>2024-11-18 20:10:38.865040</td>\n",
       "    </tr>\n",
       "    <tr>\n",
       "      <th>100551</th>\n",
       "      <td>results__ffd9d901_2127_4048_8f9a_805e3fa4930c_...</td>\n",
       "      <td>2024-11-18 20:10:38.865040</td>\n",
       "    </tr>\n",
       "    <tr>\n",
       "      <th>100552</th>\n",
       "      <td>results__ffebc346_5c58_4d73_8866_1746dedadc50_...</td>\n",
       "      <td>2024-11-18 20:10:38.865040</td>\n",
       "    </tr>\n",
       "    <tr>\n",
       "      <th>100553</th>\n",
       "      <td>results__ffec2848_65c7_44d1_8f15_8bd08e2d41f0_...</td>\n",
       "      <td>2024-11-18 20:10:38.865040</td>\n",
       "    </tr>\n",
       "    <tr>\n",
       "      <th>100554</th>\n",
       "      <td>results__fffb0445_9107_4105_9f83_2530c19fb4c9_...</td>\n",
       "      <td>2024-11-18 20:10:38.865040</td>\n",
       "    </tr>\n",
       "  </tbody>\n",
       "</table>\n",
       "<p>100555 rows × 2 columns</p>\n",
       "</div>"
      ],
      "text/plain": [
       "                                               table_name  \\\n",
       "0       cleaned_links__007046a9_518e_46cb_8e70_e598b8b...   \n",
       "1       cleaned_links__007046a9_518e_46cb_8e70_e598b8b...   \n",
       "2       cleaned_links__007046a9_518e_46cb_8e70_e598b8b...   \n",
       "3       cleaned_links__007046a9_518e_46cb_8e70_e598b8b...   \n",
       "4       cleaned_links__007046a9_518e_46cb_8e70_e598b8b...   \n",
       "...                                                   ...   \n",
       "100550  results__ffd2d86c_05c1_4607_a5b1_4ab04b77ee41_...   \n",
       "100551  results__ffd9d901_2127_4048_8f9a_805e3fa4930c_...   \n",
       "100552  results__ffebc346_5c58_4d73_8866_1746dedadc50_...   \n",
       "100553  results__ffec2848_65c7_44d1_8f15_8bd08e2d41f0_...   \n",
       "100554  results__fffb0445_9107_4105_9f83_2530c19fb4c9_...   \n",
       "\n",
       "                    creation_date  \n",
       "0      2024-11-18 20:10:38.865040  \n",
       "1      2024-11-18 20:10:38.865040  \n",
       "2      2024-11-18 20:10:38.865040  \n",
       "3      2024-11-18 20:10:38.865040  \n",
       "4      2024-11-18 20:10:38.865040  \n",
       "...                           ...  \n",
       "100550 2024-11-18 20:10:38.865040  \n",
       "100551 2024-11-18 20:10:38.865040  \n",
       "100552 2024-11-18 20:10:38.865040  \n",
       "100553 2024-11-18 20:10:38.865040  \n",
       "100554 2024-11-18 20:10:38.865040  \n",
       "\n",
       "[100555 rows x 2 columns]"
      ]
     },
     "execution_count": 14,
     "metadata": {},
     "output_type": "execute_result"
    }
   ],
   "source": [
    "# Set the repsonse format for clickhouse.\n",
    "config.response_format=\"JSONCompact\"\n",
    "\n",
    "@dataclass\n",
    "class TableNames():\n",
    "    table_name: str \n",
    "    creation_date: datetime\n",
    "\n",
    "async def download_all_table_names() -> pd.DataFrame:\n",
    "    df_list = []\n",
    "    with ff.TemporaryFile() as temp:\n",
    "        query_string = \"show tables\"\n",
    "\n",
    "        with tqdm(desc=\"Running the query result\", unit=\"MB\") as pb:\n",
    "            # Run async downloader\n",
    "            async for chunk in tqdm(common.run_query(config, query_string)):\n",
    "                temp.write(chunk)\n",
    "                pb.update(len(chunk) // config.chunk_size)\n",
    "        current_time = datetime.now()\n",
    "        temp.close()\n",
    "\n",
    "        with open(temp.filename, \"r\") as tmpr:\n",
    "            json_object = json.load(tmpr)\n",
    "\n",
    "        for record in json_object['data']:\n",
    "            name = record[0]\n",
    "            df_list.append(TableNames(\n",
    "                table_name=name,\n",
    "                creation_date=current_time\n",
    "            ))\n",
    "\n",
    "    return pd.DataFrame(df_list)\n",
    "\n",
    "df = await download_all_table_names()\n",
    "df"
   ]
  },
  {
   "cell_type": "code",
   "execution_count": 15,
   "metadata": {},
   "outputs": [
    {
     "name": "stdout",
     "output_type": "stream",
     "text": [
      "Done\n"
     ]
    }
   ],
   "source": [
    "ff.save_dataframe_feather(df, \"../data/tables/\", prefix=\"tables-\")\n",
    "print(\"Done\")"
   ]
  },
  {
   "cell_type": "code",
   "execution_count": null,
   "metadata": {},
   "outputs": [],
   "source": []
  }
 ],
 "metadata": {
  "kernelspec": {
   "display_name": ".venv",
   "language": "python",
   "name": "python3"
  },
  "language_info": {
   "codemirror_mode": {
    "name": "ipython",
    "version": 3
   },
   "file_extension": ".py",
   "mimetype": "text/x-python",
   "name": "python",
   "nbconvert_exporter": "python",
   "pygments_lexer": "ipython3",
   "version": "3.11.2"
  }
 },
 "nbformat": 4,
 "nbformat_minor": 2
}
